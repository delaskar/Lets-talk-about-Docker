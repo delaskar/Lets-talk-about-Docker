{
 "cells": [
  {
   "attachments": {},
   "cell_type": "markdown",
   "metadata": {},
   "source": [
    "## **Tres problemas del desarrollo de software**"
   ]
  },
  {
   "attachments": {},
   "cell_type": "markdown",
   "metadata": {},
   "source": [
    "**1. Construir software:** Escribir código es solo una pequeña parte. Cuando construimos nos encontramos con una serie de problemas que no solo tienen que ver con el código, sino que también entran otros factores como:\n",
    "\n",
    "- Entorno de desarrollo\n",
    "- Dependencias\n",
    "- Entorno de ejecución\n",
    "- Equivalencia con entorno productivo\n",
    "- Servicios externos\n",
    "\n",
    "Todo el software que construimos, en realidad, un gran porcentaje está escrito por otras personas. ¿Por qué? Porque la realidad es que no escribimos todo desde cero. Usamos dependencias, usamos frameworks, utilizamos bibliotecas, etc. Todo esto nos lleva a asegurarnos de que todos los que trabajamos en un proyecto estemos utilizando las mismas herramientas y las mismas versiones. Porque de no ser así, los problemas que tendremos en el camino se volverán un quebradero de cabeza. El código no se comportará de la misma forma, los entornos de trabajo se verán afectados, etc. Y esto nos lleva a hablar del segundo problema.\n",
    "\n"
   ]
  },
  {
   "attachments": {},
   "cell_type": "markdown",
   "metadata": {},
   "source": [
    "**2. Distribuir software:** Nuestro código tiene que transformarse en un artefacto, o varios artefactos, que puedan ser transportados a donde tengan que ser ejecutados. Es decir, si estamos trabajando con binarios, bueno, tendrá que ser el binario compilado, si estás trabajando con Android probablemente va a ser un APK, y así sucesivamente. Entonces, la pregunta que normalmente nos hacemos es: ¿cómo hacemos para que eso llegue donde tiene que llegar? ¿Dónde lo ponemos? ¿Qué repositorio vamos a usar? El problema que comúnmente nos encontramos al momento de distribuir software son:\n",
    "\n",
    "- Divergencia de repositorios\n",
    "- Divergencia de artefactos\n",
    "- Versionado\n",
    "\n",
    "En base a esto, sabemos que la aplicación puede tener varios tipos de artefactos, esos artefactos quizá no pueden existir en los mismos repositorios, ya sea porque los repositorios estén diseñados para algunas cosas en específico y no para otras. Tomemos el ejemplo de Android, si quieres publicarla, querrás ponerla en la appstore, pero si aparte necesita un servidor probablemente tendrás que ponerla en otro lugar. Y si otra persona está trabajando junto contigo y quiere llevarse todo lo que necesita a su máquina local, pues, esa persona necesitará tener una configuración óptima para poder seguir trabajando en la app. Y esto nos lleva a hablar del tercer problema."
   ]
  },
  {
   "attachments": {},
   "cell_type": "markdown",
   "metadata": {},
   "source": [
    "3. Ejecutar software: La máquina donde se escribe el software siempre es distinta a la máquina donde se ejecuta de manera productiva. Entonces, los problemas con los que nos encontramos al ejecutar software son los siguientes:\n",
    "\n",
    "- Compatibilidad con el entorno productivo\n",
    "- Dependencias\n",
    "- Disponibilidad de servicios externos\n",
    "- Recursos de Hardware\n",
    "\n",
    "Entonces, ¿cómo podríamos asegurarnos de que todo esto esté donde lo necesitemos a la hora de ejecutar el software? Como desarrolladores de software, siempre nos encontraremos con diferentes tipos de problemas a los que necesitaremos darles soluciones rápidas y efectivas. Y Docker es una solución rápida y efectiva a este problema."
   ]
  },
  {
   "attachments": {},
   "cell_type": "markdown",
   "metadata": {},
   "source": [
    "#### ***\"Docker nos permite construir, distribuir y ejecutar cualquier aplicacion en cualquier lado!\"***"
   ]
  },
  {
   "attachments": {},
   "cell_type": "markdown",
   "metadata": {},
   "source": [
    "Esta es la promesa de **Docker** y de eso es lo que quiero hablar en esta serie!"
   ]
  }
 ],
 "metadata": {
  "kernelspec": {
   "display_name": "Python 3",
   "language": "python",
   "name": "python3"
  },
  "language_info": {
   "name": "python",
   "version": "3.10.6"
  },
  "orig_nbformat": 4
 },
 "nbformat": 4,
 "nbformat_minor": 2
}
