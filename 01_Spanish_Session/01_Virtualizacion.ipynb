{
 "cells": [
  {
   "attachments": {},
   "cell_type": "markdown",
   "metadata": {},
   "source": [
    "**Virtualización**\n",
    "La virtualización nos permite abordar simultáneamente los tres problemas del desarrollo de software profesional:\n",
    "\n",
    "Construcción\n",
    "Ejecución\n",
    "Distribución\n",
    "\n",
    "Una objeción válida es decir que ya existían las máquinas virtuales y que estos problemas se han podido resolver de una manera más o menos fácil. La respuesta a esta objeción podría ser sí, sin embargo, tiene un gran \"pero\" que no puede pasar desapercibido, y es que se puede hacer mejor, y eso es lo que viene a proponer Docker.\n",
    "\n",
    "**Problemas de las Máquinas Virtuales**\n",
    "\n",
    "**Peso/Tamaño:** En el orden de los GB. Repiten archivos en común y el inicio es lento. Piensa en que quieres construir una máquina completa y ten en cuenta que los sistemas operativos, como Windows Server o Red Hat Enterprise Linux, suelen tener un tamaño o peso no menor a los GB.\n",
    "\n",
    "**Costo de Administración:** Necesitan mantenimiento, igual que cualquier otra computadora.\n",
    "\n",
    "**Múltiples Formatos:** VDI, VMDK, VHD, raw, etc."
   ]
  },
  {
   "attachments": {},
   "cell_type": "markdown",
   "metadata": {},
   "source": [
    "### **Contenedores**"
   ]
  },
  {
   "attachments": {},
   "cell_type": "markdown",
   "metadata": {},
   "source": [
    "Un contenedor es la unidad lógica más importante de Docker, que permite encapsular las dependencias de un proyecto en un entorno aislado. Con esto, puedes resolver el problema de \"But it works in my machine\", ya que te permite crear una especie de máquina virtual y pasársela a tus compañeros o colocarla en un servidor para el despliegue de manera fácil.\n",
    "\n",
    "El empleo de contenedores para construir y desplegar software es:\n",
    "\n",
    "- **Flexible:** No importa qué tipo de aplicación quieras meter en un contenedor, vas a poder meterla en un contenedor.\n",
    "\n",
    "- **Liviano:** Los contenedores reutilizan el kernel, es decir, la parte más profunda del sistema operativo de la máquina anfitriona, es decir, donde corren los contenedores. Todos los contenedores que estemos corriendo en una máquina van a reutilizar un montón de código que ya está disponible en el sistema operativo. Entonces, lo único que hacemos dentro de un contenedor es empaquetar nuestro código y no todo el sistema operativo necesario para correr nuestro software.\n",
    "\n",
    "- **Portable:** Están diseñados para correr de la misma manera en cualquier máquina.\n",
    "\n",
    "- **Bajo Acoplamiento:** Un contenedor tiene todo lo que necesita para correr un software que tiene dentro de él y no le importa qué otra cosa haya en el sistema operativo o en otros contenedores, es decir, que no tendrán conflictos entre sí.\n",
    "\n",
    "- **Escalable:** Es muy fácil tomar un contenedor y añadir ancho de banda, ya sea porque necesitas más clientes o cualquier otra cosa. Es muy fácil abrir otro contenedor igual o muchos iguales con la garantía de que el código va a ser igual, que se comportará igual, en pocas palabras, que no habrá ningún tipo de discrepancia y que realmente cuesta muy poco hacerlo. Es fácil y rápido.\n",
    "\n",
    "- **Seguro:** Los contenedores se aseguran de acceder a la parte del sistema que necesitan acceder y que no puedan acceder a otras partes, ya sea a otros contenedores, a otras partes de la máquina anfitriona, etc.\n",
    "\n",
    "\n",
    "**¡Alerta!:** Puedes ver a un contenedor como una máquina virtual, pero eso **NO** significa que lo sea. Una máquina virtual puede llegar a ser muy similar debido a sus funcionalidades, como el aislamiento de procesos.\n",
    "\n",
    "Entonces, ¿cuál es el beneficio de usar contenedores en lugar de máquinas virtuales?\n",
    "\n",
    "El mayor beneficio es que los contenedores de Docker están en el nivel de los MB. Esto nos da ventajas en el consumo de recursos, ya que estos corren compartiendo el host del kernel de Linux. Por otro lado, las máquinas virtuales son un sistema operativo (S.O) con sus propias aplicaciones que corren sobre el tuyo usando virtualización y que consumen muchos recursos en el nivel de los GB. Una mejor forma de ver esto es observando la arquitectura de los contenedores y de las máquinas virtuales:"
   ]
  },
  {
   "attachments": {},
   "cell_type": "markdown",
   "metadata": {},
   "source": [
    "<img src=\"../img/VM_Image.png\">"
   ]
  },
  {
   "attachments": {},
   "cell_type": "markdown",
   "metadata": {},
   "source": [
    "En base a lo dicho anteriormente podríamos resumir que los **beneficios** de usar contenedores incluyen:\n",
    "\n",
    "- **Ágil creación y despliegue de aplicaciones:** Mayor facilidad y eficiencia al crear imágenes de contenedor en vez de máquinas virtuales.\n",
    "\n",
    "- **Desarrollo, integración y despliegue continuo:** Permite que la imagen de contenedor se construya y despliegue de forma frecuente y confiable, facilitando los rollbacks, pues la imagen es inmutable.\n",
    "\n",
    "- **Separación de tareas entre Dev y Ops:** Puedes crear imágenes de contenedor al momento de compilar y no al desplegar, desacoplando la aplicación de la infraestructura.\n",
    "\n",
    "- **Observabilidad:** No solamente se presenta la información y métricas del sistema operativo, sino la salud de la aplicación y otras señales.\n",
    "\n",
    "- **Consistencia entre los entornos de desarrollo, pruebas y producción:** La aplicación funciona igual en un laptop y en la nube.\n",
    "\n",
    "- **Portabilidad entre nubes y distribuciones:** Funciona en Ubuntu, RHEL, CoreOS, tu datacenter físico, Google Kubernetes Engine y todo lo demás.\n",
    "\n",
    "- **Administración centrada en la aplicación:** Eleva el nivel de abstracción del sistema operativo y el hardware virtualizado a la aplicación que funciona en un sistema con recursos lógicos.\n",
    "\n",
    "- **Microservicios distribuidos, elásticos, liberados y débilmente acoplados:** Las aplicaciones se separan en piezas pequeñas e independientes que pueden ser desplegadas y administradas de forma dinámica, y no como una aplicación monolítica que opera en una sola máquina de gran capacidad.\n",
    "\n",
    "- **Aislamiento de recursos:** Hace el rendimiento de la aplicación más predecible.\n",
    "\n",
    "- **Utilización de recursos:** Permite mayor eficiencia y densidad."
   ]
  }
 ],
 "metadata": {
  "language_info": {
   "name": "python"
  },
  "orig_nbformat": 4
 },
 "nbformat": 4,
 "nbformat_minor": 2
}
