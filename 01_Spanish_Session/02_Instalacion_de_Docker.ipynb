{
 "cells": [
  {
   "attachments": {},
   "cell_type": "markdown",
   "metadata": {},
   "source": [
    "# **Instalación de Docker en Windows + WSL2**"
   ]
  },
  {
   "attachments": {},
   "cell_type": "markdown",
   "metadata": {},
   "source": [
    "Si no tienes **WSL2** es momento para dirigirte a la documentacion de la pagina oficial de **micorsoft**:\n",
    "\n",
    "- <a href=\"https://learn.microsoft.com/en-us/windows/wsl/install\">WSL2</a>"
   ]
  },
  {
   "attachments": {},
   "cell_type": "markdown",
   "metadata": {},
   "source": [
    "Para instalar **docker** vamos a dirigirnos directamente a la ducumentacion oficial de docker:\n",
    "\n",
    "- <a href=\"https://docs.docker.com/desktop/install/windows-install/\">Docker</a>"
   ]
  }
 ],
 "metadata": {
  "language_info": {
   "name": "python"
  },
  "orig_nbformat": 4
 },
 "nbformat": 4,
 "nbformat_minor": 2
}
