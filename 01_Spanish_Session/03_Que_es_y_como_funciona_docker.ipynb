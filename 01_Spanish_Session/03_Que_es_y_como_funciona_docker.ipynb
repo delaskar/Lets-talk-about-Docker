{
 "cells": [
  {
   "attachments": {},
   "cell_type": "markdown",
   "metadata": {},
   "source": [
    "## **¿Qué es Docker?**\n",
    "\n",
    "Es una plataforma que permite construir, ejecutar y compartir aplicaciones mediante **contenedores**."
   ]
  },
  {
   "attachments": {},
   "cell_type": "markdown",
   "metadata": {},
   "source": [
    "<img src=\"../img/DockerEngine.png\" alt=\"DockerEngine\">"
   ]
  },
  {
   "attachments": {},
   "cell_type": "markdown",
   "metadata": {},
   "source": [
    "Componentes DENTRO del círculo de Docker:\n",
    "\n",
    "Docker daemon: Es el centro de Docker, el corazón que gracias a él, podemos comunicarnos con los servicios de Docker. Maneja todas las interacciones con las que trabaja Docker, básicamente la que nos permite utilizar todos los contenedores que maneja Docker. Es quien interactúa con el sistema operativo.\n",
    "\n",
    "- **REST API:** Como cualquier otra API, es la que nos permite visualizar Docker de forma “gráfica”.\n",
    "\n",
    "- **Cliente de Docker:** Gracias a este componente, podemos comunicarnos con el corazón de Docker (Docker Daemon) que por defecto es la línea de comandos.\n",
    "\n",
    "Dentro de la arquitectura de Docker encontramos:\n",
    "\n",
    "- **Contenedores:** Es la razón de ser de Docker, es donde podemos encapsular nuestras imágenes para llevarlas a otra computadora, o servidor, etc.\n",
    "\n",
    "- **Imágenes:** Son las encapsulaciones de un contenedor. Podemos correr nuestra aplicación en Java por medio de una imagen, podemos utilizar Ubuntu para correr nuestro proyecto, etc.\n",
    "\n",
    "- **Volúmenes de datos:** Podemos acceder con seguridad al sistema de archivos de nuestra máquina.\n",
    "\n",
    "- **Redes:** Son las que permiten la comunicación entre contenedores.\n"
   ]
  },
  {
   "attachments": {},
   "cell_type": "markdown",
   "metadata": {},
   "source": [
    "### **Arquitectura de Docker**\n",
    "\n",
    "La arquitectura de Docker es una arquitectura cliente-servidor, donde el cliente habla con el servidor (que es un proceso daemon) mediante una API para poder gestionar el ciclo de vida de los contenedores y así poder construir, ejecutar y distribuir los contenedores.\n",
    "\n",
    "El hecho de que el cliente se comunique con el servidor mediante la API hace que el cliente y servidor puedan estar en la misma máquina comunicándose mediante sockets de UNIX o bien en máquinas diferentes comunicándose mediante un endpoint en la red.\n",
    "\n",
    "Docker está escrito en GO, aunque también se aprovecha de muchas de las capacidades del kernel Linux, como namespaces, cgroups, y el sistema de archivos UnionFS.\n",
    "\n",
    "Dentro de los elementos de la arquitectura de Docker encontramos dos, por un lado el elemento principal de la arquitectura de Docker que es el Docker Engine y por otro el Registro de Docker.\n",
    "\n",
    "<img width=\"70%\" src=\"../img/arquitectura-docker.png\" alt=\"arquitectura-docker\">\n",
    "\n",
    "### **Docker Engine**\n",
    "\n",
    "El Docker Engine es la aplicación cliente-servidor que implementa Docker. Esta aplicación tiene tres componentes:\n",
    "\n",
    "- **Servidor:** es el proceso principal de Docker y que funciona como proceso demonio del sistema. Es el encargado de gestionar los objetos que hay en Docker como imágenes, contenedores, redes y volúmenes. Se representa mediante el comando \"dockerd\".\n",
    "\n",
    "- **API REST:** es un API REST que nos permite acceder a las capacidades del servidor y ejecutar comandos sobre él. Podemos utilizar un simple \"curl\" para acceder a las capacidades del API de Docker.\n",
    "\n",
    "- **Cliente:** es la línea de comandos representada por el comando \"docker\". El cliente habla vía el API REST para poder ejecutar los comandos. Es lo que utilizaremos para poder ir gestionando el ciclo de vida de nuestras imágenes y contenedores.\n",
    "\n",
    "**Registros de Docker**\n",
    "Los registros de Docker (Docker Registry) son los que almacenan imágenes de Docker. El Docker Hub es un registro público que almacena múltiples imágenes, algunas de ellas certificadas por Docker."
   ]
  }
 ],
 "metadata": {
  "language_info": {
   "name": "python"
  },
  "orig_nbformat": 4
 },
 "nbformat": 4,
 "nbformat_minor": 2
}
