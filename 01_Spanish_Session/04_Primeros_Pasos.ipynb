{
 "cells": [
  {
   "attachments": {},
   "cell_type": "markdown",
   "metadata": {},
   "source": [
    "## **Hello World**\n",
    "\n",
    "Despues de haber instalado Docker, vamos a correr nuestro primer contenedor para asegurarnos de todo esta corriendo perfectamente.\n",
    "Ejecutemos el siguiente comando:\n",
    "\n",
    "`docker run hello-world`\n",
    "\n",
    "Deberias de ver algo asi en tu terminal:\n",
    "\n",
    "<img width=\"50%\" src=\"../img/docker-hello-world.png\">"
   ]
  },
  {
   "attachments": {},
   "cell_type": "markdown",
   "metadata": {},
   "source": [
    "**Felicitaciones! Haz corrido tu primer contenedor en Docker!**"
   ]
  }
 ],
 "metadata": {
  "kernelspec": {
   "display_name": "Python 3",
   "language": "python",
   "name": "python3"
  },
  "language_info": {
   "name": "python",
   "version": "3.10.6"
  },
  "orig_nbformat": 4
 },
 "nbformat": 4,
 "nbformat_minor": 2
}
