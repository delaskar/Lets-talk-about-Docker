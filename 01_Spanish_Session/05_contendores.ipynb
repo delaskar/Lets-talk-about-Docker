{
 "cells": [
  {
   "attachments": {},
   "cell_type": "markdown",
   "metadata": {},
   "source": [
    "# **¿Que son los contenedores?**"
   ]
  },
  {
   "attachments": {},
   "cell_type": "markdown",
   "metadata": {},
   "source": [
    "Es fundamental entender el concepto de contenedores. Porque? por que sera el lugar donde nuestra aplicacion se estara ejecutando y si no entiendes el concepto de que son los contenedores en docker, se te hara muy dificil abordar cada reto que se te presente.\n",
    "Asi que, entender el copceto de lo que es un contendor en docker es un pieza fundamental para dominar esta herramienta.\n"
   ]
  },
  {
   "attachments": {},
   "cell_type": "markdown",
   "metadata": {},
   "source": [
    "### **Analogia**\n",
    "\n",
    "Para explicar este concepto, utilizare una analogia bastante simple:\n",
    "\n",
    "Los **contenedores** de Docker son como cajas mágicas donde puedes poner cualquier cosa que quieras. Imagina que quieres llevar tu juguete favorito contigo a casa de tu amigo, pero no puedes llevar todo tu cuarto contigo. Entonces, lo pones en la caja mágica, que es como una mochila especial que puede llevar tus cosas favoritas sin tener que llevar todo tu cuarto contigo.\n",
    "\n",
    "En la caja mágica, tu juguete favorito estará seguro y todo lo que necesitas para jugar con él también estará dentro de la caja. De esta manera, cuando llegas a la casa de tu amigo, puedes sacar tu juguete favorito de la caja mágica y empezar a jugar. Los contenedores de Docker son como cajas mágicas para las aplicaciones, donde puedes poner todo lo necesario para que funcionen sin tener que preocuparte por el lugar donde se ejecuten o cómo se configuren."
   ]
  },
  {
   "attachments": {},
   "cell_type": "markdown",
   "metadata": {},
   "source": [
    "### **En palabras mas \"tecnicas\"...**\n",
    "\n",
    "**Un contenedor** en Docker es como una caja que contiene todo lo necesario para que una aplicación se ejecute. Dentro de esa caja, se encuentran los procesos, las bibliotecas y las dependencias necesarias para que la aplicación funcione. A diferencia de las máquinas virtuales, los contenedores no emulan un sistema operativo completo, sino que comparten el mismo kernel del sistema operativo del anfitrión. Esto significa que los procesos dentro del contenedor se ejecutan de forma nativa y solo pueden ver el universo dentro del contenedor.\n",
    "\n",
    "Los contenedores tienen límites estrictos en los recursos que pueden consumir, como la memoria RAM, lo que les permite consumir solo lo que se les ha permitido.\n",
    "\n",
    "Cada contenedor en Docker tiene un ID único y un nombre que lo identifica. Docker aísla los procesos dentro del contenedor del resto del sistema, lo que significa que no pueden ver más allá del contenedor. Cuando se ejecuta un contenedor, se le asigna un sector del disco del sistema anfitrión que está limitado a ese contenedor y no puede \"subir\" más allá de ese punto.\n",
    "\n",
    "En resumen, un contenedor de Docker es como una caja que contiene todo lo necesario para que una aplicación se ejecute de forma aislada y segura. Es más liviano que una máquina virtual y no emula un sistema operativo completo. Cada contenedor tiene un ID único y un nombre, y se le asigna un sector del disco limitado que no puede sobrepasar."
   ]
  },
  {
   "attachments": {},
   "cell_type": "markdown",
   "metadata": {},
   "source": [
    "### **Aquitectura de Docker**\n",
    "\n",
    "<img width=\"50%\" src=\"../img/Docker-Aquitectura.png\">"
   ]
  }
 ],
 "metadata": {
  "language_info": {
   "name": "python"
  },
  "orig_nbformat": 4
 },
 "nbformat": 4,
 "nbformat_minor": 2
}
