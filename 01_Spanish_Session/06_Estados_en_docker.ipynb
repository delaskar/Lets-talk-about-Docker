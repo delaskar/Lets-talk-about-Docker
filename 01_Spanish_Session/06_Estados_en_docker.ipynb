{
 "cells": [
  {
   "attachments": {},
   "cell_type": "markdown",
   "metadata": {},
   "source": [
    "# **Primeros comandos de docker**"
   ]
  },
  {
   "attachments": {},
   "cell_type": "markdown",
   "metadata": {},
   "source": [
    "1. ***Corre un nuevo contenedor llamado hello-world:***\n",
    ">    - `$ docker run hello-world`\n",
    "\n",
    "2. ***Lista los contenedores activos, inicialmente no hay ninguno:***\n",
    ">    - `$ docker ps`\n",
    "\n",
    "3. ***Lista todos los contenedores creados:***\n",
    ">    - `$ docker ps -a`\n",
    "\n",
    "4. ***Permite ver la configuración de un contenedor específico indicando el id:***\n",
    ">   - `$ docker inspect <container ID>`\n",
    "\n",
    "5. ***Permite ver la configuración de un contenedor específico indicando el nombre, el cual también es único como el ID, es decir no pueden haber dos contenedores con el mismo nombre:***\n",
    ">    - `$ docker inspect <container names>`\n",
    "\n",
    "6. ***Con este comando se puede crear un contenedor con un nombre personalizado, ya que el nombre hello-world es el nombre de la image , no el nombre del contenedor:*** **NOTA: Docker no nos permite tener dos contendores con el mismo nombre.**\n",
    ">    - `$ docker run --name <nombre> hello-world `\n",
    "\n",
    "7. ***Con este comando se puede renombrar un contenedor, ya que si intentamos crear otro contenedor con el mismo nombre de otro no lo permite pues el nombre es único:***\n",
    ">    - `$ docker rename <nombre actual> <nombre nuevo>`\n",
    "\n",
    "8. ***Comando para eliminar un contenedor indicando el id:***\n",
    ">    - `$ docker rm <container ID>`\n",
    "\n",
    "9. ***Comando para eliminar todos los contenedores:***\n",
    ">    - `$ docker container prune`\n"
   ]
  }
 ],
 "metadata": {
  "language_info": {
   "name": "python"
  },
  "orig_nbformat": 4
 },
 "nbformat": 4,
 "nbformat_minor": 2
}
