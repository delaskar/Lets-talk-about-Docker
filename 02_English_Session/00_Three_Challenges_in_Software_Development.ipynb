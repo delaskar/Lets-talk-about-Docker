{
 "cells": [
  {
   "attachments": {},
   "cell_type": "markdown",
   "metadata": {},
   "source": [
    "## **Three Challenges in Software Development**"
   ]
  },
  {
   "attachments": {},
   "cell_type": "markdown",
   "metadata": {},
   "source": [
    "**1. Building Software:**: Writing code is just a small part of software development. When we build software, we encounter a series of problems that not only have to do with code, but also involve other factors such as:\n",
    "\n",
    "- Development environment\n",
    "- Dependencies\n",
    "- Runtime environment\n",
    "- Equivalence with production environment\n",
    "- External services\n",
    "\n",
    "In reality, a large percentage of the software we build is written by other people. Why? Because the truth is that we don't write everything from scratch. We use dependencies, frameworks, libraries, etc. All of this leads us to ensure that everyone working on a project is using the same tools and versions. If not, the problems we will encounter along the way will become a headache. The code will not behave in the same way, the working environments will be affected, etc. And this leads us to the second problem.\n",
    "\n",
    "\n"
   ]
  },
  {
   "attachments": {},
   "cell_type": "markdown",
   "metadata": {},
   "source": [
    "**2. Distributing Software:** Our code has to be transformed into an artifact, or several artifacts, that can be transported to where they need to be executed. That is, if we are working with binaries, well, it will have to be the compiled binary, if you are working with Android it will probably be an APK, and so on. So, the question we normally ask ourselves is: how do we make sure that it gets to where it needs to go? Where do we put it? What repository are we going to use? The problems we commonly encounter when distributing software are:\n",
    "\n",
    "- Divergence of repositories\n",
    "- Divergence of artifacts \n",
    "- Versioning\n",
    "\n",
    "Based on this, we know that the application may have several types of artifacts, and these artifacts may not be able to exist in the same repositories because the repositories are designed for specific things and not for others. Let's take the example of Android, if you want to publish it, you'll want to put it on the app store, but if it also needs a server, you'll probably have to put it somewhere else. And if another person is working with you and wants to take everything they need to their local machine, then that person will need an optimal configuration to continue working on the app. And this leads us to the third problem."
   ]
  },
  {
   "attachments": {},
   "cell_type": "markdown",
   "metadata": {},
   "source": [
    "**3. Running Software:** The machine where the software is written is always different from the machine where it is executed in a productive way. So, the problems we encounter when running software are the following:\n",
    "\n",
    "- Compatibility with the production environment\n",
    "- Dependencies\n",
    "- Availability of external services\n",
    "- Hardware resources\n",
    "\n",
    "So how can we ensure that all of this is where we need it when we run the software? As software developers, we will always encounter different types of problems that we need to give quick and effective solutions to. And Docker is a quick and effective solution to this problem."
   ]
  },
  {
   "attachments": {},
   "cell_type": "markdown",
   "metadata": {},
   "source": [
    "#### ***\"Docker allows us to build, distribute, and run any application anywhere!\"***"
   ]
  },
  {
   "attachments": {},
   "cell_type": "markdown",
   "metadata": {},
   "source": [
    "This is the promise of Docker and what I want to talk about in this series!"
   ]
  }
 ],
 "metadata": {
  "kernelspec": {
   "display_name": "Python 3",
   "language": "python",
   "name": "python3"
  },
  "language_info": {
   "name": "python",
   "version": "3.10.6"
  },
  "orig_nbformat": 4
 },
 "nbformat": 4,
 "nbformat_minor": 2
}
