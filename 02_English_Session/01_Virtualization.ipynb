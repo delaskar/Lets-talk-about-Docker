{
 "cells": [
  {
   "attachments": {},
   "cell_type": "markdown",
   "metadata": {},
   "source": [
    "# **Virtualization**\n",
    "\n",
    "Virtualization allows us to simultaneously address the three problems of professional software development:\n",
    "\n",
    "- Build\n",
    "- Run\n",
    "- Distribute\n",
    "\n",
    "A valid objection is that virtual machines (VMs) already exist and these problems have been able to be solved in a more or less easy way. The response to this objection could be yes, however, there is a big BUT that cannot be overlooked, and that is that we can do better, which is what Docker proposes.\n",
    "\n",
    "### **Problems with VMs**\n",
    "\n",
    "- **WEIGHT/SIZE:** In the order of GBs. They repeat common files and have a slow start-up. Think about building a complete machine and consider that operating systems like Windows Server or Red Hat Enterprise Linux have sizes in the order of GBs, they are not smaller than GBs.\n",
    "\n",
    "- **ADMINISTRATION COST:** They require maintenance like any other computer.\n",
    "\n",
    "- **MULTIPLE FORMATS:** VDI, VMDK, VHD, Raw, etc."
   ]
  },
  {
   "attachments": {},
   "cell_type": "markdown",
   "metadata": {},
   "source": [
    "Docker uses something called **[containers]**."
   ]
  },
  {
   "attachments": {},
   "cell_type": "markdown",
   "metadata": {},
   "source": [
    "### **Containers**\n",
    "\n",
    "A container is the most important logical unit of Docker, which allows encapsulating project dependencies in an isolated environment. With this, you can solve the problem of \"But it works in my machine\" since it allows you to create a kind of virtual machine and pass it on to your colleagues or place it on a server for deployment easily.\n",
    "\n",
    "The use of containers to build and deploy software is:\n",
    "\n",
    "- **Flexible:** No matter what type of application you want to put in a container, you can put it in a container.\n",
    "\n",
    "- **Lightweight:** Containers reuse the kernel, that is, the deepest part of the operating system of the host machine where the containers are running. All the containers that we are running on a machine will reuse a lot of code that is already available in the operating system. So, all we do inside a container is package our code and not the entire operating system required to run our software.\n",
    "\n",
    "- **Portable:** They are designed to run in the same way on any machine.\n",
    "\n",
    "- **Loose coupling:** A container has everything it needs to run the software inside it and does not care about anything else in the operating system or in other containers, that is, they will not conflict with each other.\n",
    "\n",
    "- **Scalable:** It is very easy to take a container and add bandwidth, either because you need more clients or any other reason. It is very easy to open another identical container or many identical containers with the guarantee that the code will be the same, that it will behave the same, in short, that there will be no discrepancies and that it really costs very little to do so. It is easy and fast.\n",
    "\n",
    "- **Secure:** Containers ensure that they access the system port they need to access and cannot access other parts, whether other containers, other parts of the host machine, etc.\n",
    "\n",
    "**⚠️Alert!:** You can see a container as a virtual machine, but that does NOT mean that it is one. A virtual machine can become very similar due to its functionalities such as process isolation.\n",
    "\n",
    "So... what is the benefit of using containers instead of virtual machines?\n",
    "\n",
    "The biggest benefit is that Docker containers are at the MB level, which gives us advantages in resource consumption since they run sharing the Linux kernel host. On the other hand, virtual machines are an operating system (OS) with their own apps that run on your OS using virtualization and consume many resources at the GB level. A better way to see this is by observing the architecture of containers and virtual machines:"
   ]
  },
  {
   "attachments": {},
   "cell_type": "markdown",
   "metadata": {},
   "source": [
    "<img src=\"../img/VM_Image.png\">"
   ]
  },
  {
   "attachments": {},
   "cell_type": "markdown",
   "metadata": {},
   "source": [
    "Based on what was previously mentioned, we could summarize that the **benefits** of using containers include:\n",
    "\n",
    "- **Agile application creation and deployment:** Greater ease and efficiency in creating container images instead of virtual machines.\n",
    "\n",
    "- **Continuous development, integration, and deployment:** Enables frequent and reliable container image builds and deployments, facilitating rollbacks as the image is immutable.\n",
    "\n",
    "- **Separation of tasks between Dev and Ops:** Container images can be created at build time instead of deployment time, decoupling the application from the infrastructure.\n",
    "\n",
    "- **Observability:** Not only presents information and metrics of the operating system, but also the application's health and other signals.\n",
    "\n",
    "- **Consistency between development, testing, and production environments:** The application works the same on a laptop and in the cloud.\n",
    "\n",
    "- **Portability between clouds and distributions:** Works on Ubuntu, RHEL, CoreOS, your physical datacenter, Google Kubernetes Engine, and everything else.\n",
    "\n",
    "- **Application-centric management:** Elevates the level of abstraction from the virtualized hardware and operating system to the application running on a logical resource system.\n",
    "\n",
    "- **Distributed, elastic, released, and loosely coupled microservices:** Applications are separated into small and independent pieces that can be dynamically deployed and managed, not as a monolithic application running on a single large-capacity machine.\n",
    "\n",
    "- **Resource isolation:** Makes application performance more predictable.\n",
    "\n",
    "- **Resource utilization:** Allows for greater efficiency and density."
   ]
  }
 ],
 "metadata": {
  "language_info": {
   "name": "python"
  },
  "orig_nbformat": 4
 },
 "nbformat": 4,
 "nbformat_minor": 2
}
