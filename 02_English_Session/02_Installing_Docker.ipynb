{
 "cells": [
  {
   "attachments": {},
   "cell_type": "markdown",
   "metadata": {},
   "source": [
    "# **Installing Docker on Windows + WSL2**"
   ]
  },
  {
   "attachments": {},
   "cell_type": "markdown",
   "metadata": {},
   "source": [
    "If you do not have **WSL2** it is time to go to the documentation of the official page of **microsoft**\n",
    "\n",
    "- <a href=\"https://learn.microsoft.com/en-us/windows/wsl/install\">WSL2</a>"
   ]
  },
  {
   "attachments": {},
   "cell_type": "markdown",
   "metadata": {},
   "source": [
    "To install **docker** we are going to go directly to the official docker documentation:\n",
    "\n",
    "- <a href=\"https://docs.docker.com/desktop/install/windows-install/\">Docker</a>"
   ]
  }
 ],
 "metadata": {
  "language_info": {
   "name": "python"
  },
  "orig_nbformat": 4
 },
 "nbformat": 4,
 "nbformat_minor": 2
}
