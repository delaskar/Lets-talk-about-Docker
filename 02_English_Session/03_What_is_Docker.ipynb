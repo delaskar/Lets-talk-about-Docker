{
 "cells": [
  {
   "attachments": {},
   "cell_type": "markdown",
   "metadata": {},
   "source": [
    "## **What is Docker?**\n",
    "Docker is a platform that allows you to build, run, and share applications using containers."
   ]
  },
  {
   "attachments": {},
   "cell_type": "markdown",
   "metadata": {},
   "source": [
    "<img src=\"../img/DockerEngine.png\" alt=\"DockerEngine\">"
   ]
  },
  {
   "attachments": {},
   "cell_type": "markdown",
   "metadata": {},
   "source": [
    "Components WITHIN the Docker circle:\n",
    "\n",
    "- **Docker daemon:** It is the heart of Docker, the center that allows us to communicate with Docker services. It handles all the interactions that Docker works with, mainly the ones that allow us to use all the containers that Docker manages. It is the one that interacts with the operating system.\n",
    "\n",
    "- **REST API:** Like any other API, it allows us to visualize Docker in a \"graphical\" way.\n",
    "\n",
    "- **Docker client:** Thanks to this component, we can communicate with the heart of Docker (Docker Daemon), which by default is the command line.\n",
    "\n",
    "Within the Docker architecture, we find:\n",
    "\n",
    "- **Containers:** It is the reason for being of Docker, where we can encapsulate our images to take them to another computer, server, etc.\n",
    "\n",
    "- **Images:** These are the encapsulations of a container. We can run our Java application through an image, we can use Ubuntu to run our project, etc.\n",
    "\n",
    "- **Data volumes:** We can securely access the file system of our machine.\n",
    "\n",
    "- **Networks:** These allow communication between containers."
   ]
  },
  {
   "attachments": {},
   "cell_type": "markdown",
   "metadata": {},
   "source": [
    "### **Docker Architecture**\n",
    "\n",
    "The Docker architecture is a client-server architecture, where the client talks to the server (which is a daemon process) through an API to manage the container's life cycle and thus build, run, and distribute containers.\n",
    "\n",
    "The fact that the client communicates with the server through the API means that the client and server can be on the same machine communicating via UNIX sockets or on different machines communicating through a network endpoint.\n",
    "\n",
    "Docker is written in GO, although it also takes advantage of many of Linux kernel capabilities, such as namespaces, cgroups, and the UnionFS file system.\n",
    "\n",
    "Within the elements of the Docker architecture, we find two, on the one hand, the main element of the Docker architecture, which is the Docker Engine, and on the other hand, the Docker Registry.\n",
    "\n",
    "<img width=\"70%\" src=\"../img/arquitectura-docker.png\" alt=\"arquitectura-docker\">\n",
    "\n",
    "### **Docker Engine**\n",
    "The Docker Engine is the client-server application that implements Docker. This application has three components:\n",
    "\n",
    "- **Server:** it is the main process of Docker and that works as a system daemon process. It is responsible for managing the objects in Docker such as images, containers, networks, and volumes. It is represented by the dockerd command.\n",
    "\n",
    "- **REST API:** it is a REST API that allows us to access the server's capabilities and run commands on it. We can use a simple curl to access Docker's API capabilities.\n",
    "\n",
    "- **Client:** it is the command line represented by the docker command. The client speaks via the REST API to execute commands. It is what we will use to manage the life cycle of our images and containers.\n",
    "\n",
    "**Docker Registries**\n",
    "\n",
    "Docker registries are the ones that store Docker images. Docker Hub is a public registry that stores multiple images, some of which are certified by Docker."
   ]
  },
  {
   "cell_type": "markdown",
   "metadata": {},
   "source": []
  }
 ],
 "metadata": {
  "language_info": {
   "name": "python"
  },
  "orig_nbformat": 4
 },
 "nbformat": 4,
 "nbformat_minor": 2
}
