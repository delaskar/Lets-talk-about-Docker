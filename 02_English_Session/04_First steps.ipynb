{
 "cells": [
  {
   "attachments": {},
   "cell_type": "markdown",
   "metadata": {},
   "source": [
    "## **Hello World**\n",
    "\n",
    "After having installed Docker, let's run our first container to ensure that everything is running perfectly. Let's execute the following command:\n",
    "\n",
    "`docker run hello-world`\n",
    "\n",
    "You should see something like this in your terminal:\n",
    "\n",
    "<img width=\"50%\" src=\"../img/docker-hello-world.png\">"
   ]
  },
  {
   "attachments": {},
   "cell_type": "markdown",
   "metadata": {},
   "source": [
    "**Congratulations! You have run your first container on Docker!**"
   ]
  }
 ],
 "metadata": {
  "kernelspec": {
   "display_name": "Python 3",
   "language": "python",
   "name": "python3"
  },
  "language_info": {
   "name": "python",
   "version": "3.10.6"
  },
  "orig_nbformat": 4
 },
 "nbformat": 4,
 "nbformat_minor": 2
}
