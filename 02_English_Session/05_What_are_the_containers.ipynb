{
 "cells": [
  {
   "attachments": {},
   "cell_type": "markdown",
   "metadata": {},
   "source": [
    "# **What are the containers?**"
   ]
  },
  {
   "attachments": {},
   "cell_type": "markdown",
   "metadata": {},
   "source": [
    "It is crucial to understand the concept of containers. Why? Because it is where our application will be running, and if you do not understand the concept of what containers are in Docker, it will be very challenging to tackle any challenge that comes your way.\n",
    "Therefore, understanding the concept of what a container is in Docker is a fundamental piece to master this tool."
   ]
  },
  {
   "attachments": {},
   "cell_type": "markdown",
   "metadata": {},
   "source": [
    "### **Analogy**\n",
    "\n",
    "To explain this concept, I'll use a rather simple analogy:\n",
    "\n",
    "Docker **containers** are like magic boxes where you can put anything you want. Imagine you want to bring your favorite toy with you to your friend's house, but you can't bring your whole room with you. So, you put it in the magic box, which is like a special backpack that can carry your favorite things without having to bring your whole room with you.\n",
    "\n",
    "In the magic box, your favorite toy will be safe and everything you need to play with it will also be inside the box. This way, when you arrive at your friend's house, you can take your favorite toy out of the magic box and start playing. Docker containers are like magic boxes for applications, where you can put everything needed to make them work without having to worry about where they run or how they are configured."
   ]
  },
  {
   "attachments": {},
   "cell_type": "markdown",
   "metadata": {},
   "source": [
    "### **In more \"technical\" terms...**\n",
    "\n",
    "A **Docker container** is like a box that contains everything necessary for an application to run. Inside that box, the processes, libraries, and dependencies necessary for the application to function are found. Unlike virtual machines, containers do not emulate a complete operating system, but instead share the same operating system kernel as the host. This means that the processes inside the container run natively and can only see the universe inside the container.\n",
    "\n",
    "Containers have strict limits on the resources they can consume, such as RAM memory, which allows them to consume only what has been allowed to them.\n",
    "\n",
    "Each container in Docker has a unique ID and name that identifies it. Docker isolates the processes inside the container from the rest of the system, meaning they cannot see beyond the container. When a container is run, it is assigned a sector of the host system's disk that is limited to that container and cannot \"climb up\" beyond that point.\n",
    "\n",
    "In summary, a Docker container is like a box that contains everything necessary for an application to run in an isolated and secure manner. It is lighter than a virtual machine and does not emulate a complete operating system. Each container has a unique ID and name, and is assigned a limited disk sector that cannot be exceeded."
   ]
  },
  {
   "attachments": {},
   "cell_type": "markdown",
   "metadata": {},
   "source": [
    "### **Docker Architecture**\n",
    "\n",
    "<img width=\"50%\" src=\"../img/Docker-Aquitectura.png\">"
   ]
  }
 ],
 "metadata": {
  "language_info": {
   "name": "python"
  },
  "orig_nbformat": 4
 },
 "nbformat": 4,
 "nbformat_minor": 2
}
