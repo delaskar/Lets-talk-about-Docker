{
 "cells": [
  {
   "attachments": {},
   "cell_type": "markdown",
   "metadata": {},
   "source": [
    "# **First docker commands**"
   ]
  },
  {
   "attachments": {},
   "cell_type": "markdown",
   "metadata": {},
   "source": [
    "1. ***Run a new container called hello-world:***\n",
    ">    - `$ docker run hello-world`\n",
    "\n",
    "2. ***List active containers, initially there are none:***\n",
    ">    - `$ docker ps`\n",
    "\n",
    "3. ***List all created containers:***\n",
    ">    - `$ docker ps -a`\n",
    "\n",
    "4. ***View the configuration of a specific container by indicating its ID:***\n",
    ">   - `$ docker inspect <container ID>`\n",
    "\n",
    "5. ***View the configuration of a specific container by indicating its name, which is also unique like the ID, meaning that two containers cannot have the same name:***\n",
    ">    - `$ docker inspect <container names>`\n",
    "\n",
    "6. ***With this command, a container with a customized name can be created, as the hello-world name is the name of the image, not the container:***\n",
    " **NOTE: Docker does not allow having two containers with the same name**\n",
    ">    - `$ docker run --name <nombre> hello-world `\n",
    "\n",
    "7. ***With this command, a container can be renamed, as trying to create another container with the same name is not allowed since the name is unique:***\n",
    ">    - `$ docker rename <nombre actual> <nombre nuevo>`\n",
    "\n",
    "8. ***Command to delete a container by indicating its ID:***\n",
    ">    - `$ docker rm <container ID>`\n",
    "\n",
    "9. ***Command to delete all containers:***\n",
    ">    - `$ docker container prune`"
   ]
  }
 ],
 "metadata": {
  "language_info": {
   "name": "python"
  },
  "orig_nbformat": 4
 },
 "nbformat": 4,
 "nbformat_minor": 2
}
